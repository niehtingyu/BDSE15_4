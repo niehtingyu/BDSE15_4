{
 "cells": [
  {
   "cell_type": "markdown",
   "metadata": {},
   "source": [
    "# Show Country Change Rates between 2019 and 2020"
   ]
  },
  {
   "cell_type": "code",
   "execution_count": null,
   "metadata": {},
   "outputs": [],
   "source": [
    "import pandas as pd\n",
    "\n",
    "# 2019\n",
    "table_2019 = pd.read_csv(\"2019_table_calculate.csv\")\n",
    "group_2019 = table_2019.groupby([\"iso_country\"]).sum()\n",
    "group_2019.to_csv(\"2019_table_calculate_country.csv\")  # 143 countries\n",
    "\n",
    "# 2020\n",
    "table_2020 = pd.read_csv(\"2020_table_calculate.csv\")\n",
    "group_2020 = table_2020.groupby([\"iso_country\"]).sum()\n",
    "group_2020.to_csv(\"2020_table_calculate_country.csv\")  # 143 countries"
   ]
  },
  {
   "cell_type": "code",
   "execution_count": null,
   "metadata": {},
   "outputs": [],
   "source": [
    "import pandas as pd\n",
    "\n",
    "# select and rename columns from 2019 table\n",
    "group_2019 = pd.read_csv(\"2019_table_calculate_country.csv\")\n",
    "\n",
    "df_left = group_2019[[\"iso_country\", \"sum_dn\"]]\n",
    "df_left = df_left.rename(columns={\"sum_dn\": \"2019_sum_dn\"})\n",
    "\n",
    "# select and rename columns from 2020 table\n",
    "group_2020 = pd.read_csv(\"2020_table_calculate_country.csv\")\n",
    "\n",
    "df_right = group_2020[[\"iso_country\", \"sum_dn\"]]\n",
    "df_right = df_right.rename(columns={\"sum_dn\": \"2020_sum_dn\"})\n",
    "\n",
    "# merge, calculate and export country change rates\n",
    "df_merge = pd.merge(df_left, df_right, on=\"iso_country\")\n",
    "\n",
    "df_merge[\"country_change_rate\"] = (df_merge[\"2020_sum_dn\"] - df_merge[\"2019_sum_dn\"]) / df_merge[\"2019_sum_dn\"]\n",
    "\n",
    "df_merge.to_csv(\"country_change_rate.csv\", index=False)"
   ]
  },
  {
   "cell_type": "markdown",
   "metadata": {},
   "source": [
    "# KMeans with 4 Clusters"
   ]
  },
  {
   "cell_type": "code",
   "execution_count": null,
   "metadata": {},
   "outputs": [],
   "source": [
    "import pandas as pd\n",
    "\n",
    "# adjustable item 1: csv\n",
    "yearlyTableDf = pd.read_csv(\"2019_table_calculate.csv\")\n",
    "yearlyTableDf = yearlyTableDf[(yearlyTableDf.domestic != 0) | (yearlyTableDf.international != 0) | \\\n",
    "                              (yearlyTableDf.day != 0) | (yearlyTableDf.night != 0) | \\\n",
    "                              (yearlyTableDf.long != 0) | (yearlyTableDf.medium != 0) | (yearlyTableDf.short != 0)]\n",
    "\n",
    "print(yearlyTableDf.shape)\n",
    "yearlyTableDf.head()"
   ]
  },
  {
   "cell_type": "code",
   "execution_count": null,
   "metadata": {},
   "outputs": [],
   "source": [
    "yearlyTableDf.describe()"
   ]
  },
  {
   "cell_type": "code",
   "execution_count": null,
   "metadata": {},
   "outputs": [],
   "source": [
    "from sklearn import preprocessing\n",
    "\n",
    "# adjustable item 2: selected fields for clustering\n",
    "selectedFields = [\"domestic\", \"international\", \"day\", \"night\", \"long\", \"medium\", \"short\"]\n",
    "\n",
    "scaler = preprocessing.StandardScaler().fit(yearlyTableDf[selectedFields])\n",
    "standardizedVariables = scaler.transform(yearlyTableDf[selectedFields])\n",
    "standardizedVariables2 = standardizedVariables\n",
    "\n",
    "from sklearn.cluster import KMeans\n",
    "import numpy as np\n",
    "\n",
    "# adjustable item 3: number of cluster\n",
    "minNumCluster = 4\n",
    "maxNumCluster = 4\n",
    "\n",
    "for i in range(minNumCluster, maxNumCluster+1):\n",
    "    mdl1 = KMeans(n_clusters=i, init=\"random\", random_state=0)\n",
    "    mdl1.fit(standardizedVariables)\n",
    "    yearlyTableDf[\"Cluster(n=\"+str(i)+\")\"] = mdl1.labels_\n",
    "    standardizedVariables2 = np.vstack((standardizedVariables2, mdl1.cluster_centers_))\n",
    "\n",
    "yearlyTableDf.head()"
   ]
  },
  {
   "cell_type": "code",
   "execution_count": null,
   "metadata": {},
   "outputs": [],
   "source": [
    "from sklearn.metrics import silhouette_score\n",
    "\n",
    "for i in range(minNumCluster, maxNumCluster+1):\n",
    "    clusterLabel = yearlyTableDf[\"Cluster(n=\"+str(i)+\")\"]\n",
    "    silhouette_avg = silhouette_score(standardizedVariables, clusterLabel)\n",
    "    for j in range(0, i):\n",
    "        print(\"Cluster(n=\"+str(i)+\") Group\"+str(j)+\" Row Counts: \"+str(yearlyTableDf[clusterLabel==j].shape[0]))\n",
    "    print(\"For Cluster(n=\"+str(i)+\"), the Average Silhouette Score:\", silhouette_avg)\n",
    "    print(\"----------------------------------------------------------------------------------------------------\")"
   ]
  },
  {
   "cell_type": "code",
   "execution_count": null,
   "metadata": {},
   "outputs": [],
   "source": [
    "from sklearn.decomposition import PCA\n",
    "\n",
    "mdl2 = PCA(n_components=2)\n",
    "mdl2.fit(standardizedVariables2)\n",
    "standardizedVariablesPCA = mdl2.transform(standardizedVariables2)\n",
    "\n",
    "import matplotlib.pyplot as plt\n",
    "import seaborn as sns; sns.set()\n",
    "\n",
    "k = yearlyTableDf.shape[0]\n",
    "for i in range(minNumCluster, maxNumCluster+1):\n",
    "    clusterLabel = yearlyTableDf[\"Cluster(n=\"+str(i)+\")\"]\n",
    "    plt.title(\"Cluster(n=\"+str(i)+\")\")\n",
    "    plt.scatter(standardizedVariablesPCA[:yearlyTableDf.shape[0], 0], standardizedVariablesPCA[:yearlyTableDf.shape[0], 1], c=clusterLabel, s=10, cmap=\"viridis\")\n",
    "    plt.scatter(standardizedVariablesPCA[k:(k+i), 0], standardizedVariablesPCA[k:(k+i), 1], c=sorted(clusterLabel.unique()), s=150, alpha=0.5, cmap=\"viridis\")\n",
    "    plt.show()\n",
    "    k += i\n",
    "    silhouette_avg = silhouette_score(standardizedVariables, clusterLabel)\n",
    "    print(\"For Cluster(n=\"+str(i)+\"), the Average Silhouette Score:\", silhouette_avg, \"\\n\")\n",
    "\n",
    "print(mdl2.explained_variance_ratio_)\n",
    "print(abs(mdl2.components_))"
   ]
  },
  {
   "cell_type": "code",
   "execution_count": null,
   "metadata": {},
   "outputs": [],
   "source": [
    "yearlyTableDf.to_csv(\"2019_table_calculate_clustering.csv\", index=False)"
   ]
  },
  {
   "cell_type": "markdown",
   "metadata": {},
   "source": [
    "# Show Descriptive Statistics of the 4 Clusters between 2019 and 2020"
   ]
  },
  {
   "cell_type": "code",
   "execution_count": null,
   "metadata": {},
   "outputs": [],
   "source": [
    "import pandas as pd\n",
    "\n",
    "# 2019 table\n",
    "clustering_2019 = pd.read_csv(\"2019_table_calculate_clustering.csv\")\n",
    "\n",
    "# 2020 table\n",
    "table_2020 = pd.read_csv(\"2020_table_calculate.csv\")\n",
    "df_right = clustering_2019[[\"icao_code\", \"Cluster(n=4)\"]]\n",
    "clustering_2020 = pd.merge(table_2020, df_right, on=\"icao_code\", how=\"right\")"
   ]
  },
  {
   "cell_type": "code",
   "execution_count": null,
   "metadata": {},
   "outputs": [],
   "source": [
    "# 2019 table group 0\n",
    "clustering_2019[clustering_2019[\"Cluster(n=4)\"] == 0].describe()[[\"domestic\", \"international\", \\\n",
    "                                                                  \"day\", \"night\", \"long\", \\\n",
    "                                                                  \"medium\", \"short\", \\\n",
    "                                                                  \"AVG_TEMP\", \"AVG_VISIB\", \"AVG_WDSP\", \"AVG_MAX\", \"AVG_MIN\", \"AVG_PRCP\", \\\n",
    "                                                                  \"domestic_ratio\", \"day_ratio\", \"long_ratio\", \"short_ratio\"]]"
   ]
  },
  {
   "cell_type": "code",
   "execution_count": null,
   "metadata": {},
   "outputs": [],
   "source": [
    "# 2019 table group 1\n",
    "clustering_2019[clustering_2019[\"Cluster(n=4)\"] == 1].describe()[[\"domestic\", \"international\", \\\n",
    "                                                                  \"day\", \"night\", \"long\", \\\n",
    "                                                                  \"medium\", \"short\", \\\n",
    "                                                                  \"AVG_TEMP\", \"AVG_VISIB\", \"AVG_WDSP\", \"AVG_MAX\", \"AVG_MIN\", \"AVG_PRCP\", \\\n",
    "                                                                  \"domestic_ratio\", \"day_ratio\", \"long_ratio\", \"short_ratio\"]]"
   ]
  },
  {
   "cell_type": "code",
   "execution_count": null,
   "metadata": {},
   "outputs": [],
   "source": [
    "# 2019 table group 2\n",
    "clustering_2019[clustering_2019[\"Cluster(n=4)\"] == 2].describe()[[\"domestic\", \"international\", \\\n",
    "                                                                  \"day\", \"night\", \"long\", \\\n",
    "                                                                  \"medium\", \"short\", \\\n",
    "                                                                  \"AVG_TEMP\", \"AVG_VISIB\", \"AVG_WDSP\", \"AVG_MAX\", \"AVG_MIN\", \"AVG_PRCP\", \\\n",
    "                                                                  \"domestic_ratio\", \"day_ratio\", \"long_ratio\", \"short_ratio\"]]"
   ]
  },
  {
   "cell_type": "code",
   "execution_count": null,
   "metadata": {},
   "outputs": [],
   "source": [
    "# 2019 table group 3\n",
    "clustering_2019[clustering_2019[\"Cluster(n=4)\"] == 3].describe()[[\"domestic\", \"international\", \\\n",
    "                                                                  \"day\", \"night\", \"long\", \\\n",
    "                                                                  \"medium\", \"short\", \\\n",
    "                                                                  \"AVG_TEMP\", \"AVG_VISIB\", \"AVG_WDSP\", \"AVG_MAX\", \"AVG_MIN\", \"AVG_PRCP\", \\\n",
    "                                                                  \"domestic_ratio\", \"day_ratio\", \"long_ratio\", \"short_ratio\"]]"
   ]
  },
  {
   "cell_type": "code",
   "execution_count": null,
   "metadata": {},
   "outputs": [],
   "source": [
    "# 2020 table group 0\n",
    "clustering_2020[clustering_2020[\"Cluster(n=4)\"] == 0].describe()[[\"domestic\", \"international\", \\\n",
    "                                                                  \"day\", \"night\", \"long\", \\\n",
    "                                                                  \"medium\", \"short\", \\\n",
    "                                                                  \"AVG_TEMP\", \"AVG_VISIB\", \"AVG_WDSP\", \"AVG_MAX\", \"AVG_MIN\", \"AVG_PRCP\", \\\n",
    "                                                                  \"domestic_ratio\", \"day_ratio\", \"long_ratio\", \"short_ratio\"]]"
   ]
  },
  {
   "cell_type": "code",
   "execution_count": null,
   "metadata": {},
   "outputs": [],
   "source": [
    "# 2020 table group 1\n",
    "clustering_2020[clustering_2020[\"Cluster(n=4)\"] == 1].describe()[[\"domestic\", \"international\", \\\n",
    "                                                                  \"day\", \"night\", \"long\", \\\n",
    "                                                                  \"medium\", \"short\", \\\n",
    "                                                                  \"AVG_TEMP\", \"AVG_VISIB\", \"AVG_WDSP\", \"AVG_MAX\", \"AVG_MIN\", \"AVG_PRCP\", \\\n",
    "                                                                  \"domestic_ratio\", \"day_ratio\", \"long_ratio\", \"short_ratio\"]]"
   ]
  },
  {
   "cell_type": "code",
   "execution_count": null,
   "metadata": {},
   "outputs": [],
   "source": [
    "# 2020 table group 2\n",
    "clustering_2020[clustering_2020[\"Cluster(n=4)\"] == 2].describe()[[\"domestic\", \"international\", \\\n",
    "                                                                  \"day\", \"night\", \"long\", \\\n",
    "                                                                  \"medium\", \"short\", \\\n",
    "                                                                  \"AVG_TEMP\", \"AVG_VISIB\", \"AVG_WDSP\", \"AVG_MAX\", \"AVG_MIN\", \"AVG_PRCP\", \\\n",
    "                                                                  \"domestic_ratio\", \"day_ratio\", \"long_ratio\", \"short_ratio\"]]"
   ]
  },
  {
   "cell_type": "code",
   "execution_count": null,
   "metadata": {},
   "outputs": [],
   "source": [
    "# 2020 table group 3\n",
    "clustering_2020[clustering_2020[\"Cluster(n=4)\"] == 3].describe()[[\"domestic\", \"international\", \\\n",
    "                                                                  \"day\", \"night\", \"long\", \\\n",
    "                                                                  \"medium\", \"short\", \\\n",
    "                                                                  \"AVG_TEMP\", \"AVG_VISIB\", \"AVG_WDSP\", \"AVG_MAX\", \"AVG_MIN\", \"AVG_PRCP\", \\\n",
    "                                                                  \"domestic_ratio\", \"day_ratio\", \"long_ratio\", \"short_ratio\"]]"
   ]
  },
  {
   "cell_type": "markdown",
   "metadata": {},
   "source": [
    "# Show Airport Change Rates between 2019 and 2020"
   ]
  },
  {
   "cell_type": "code",
   "execution_count": null,
   "metadata": {},
   "outputs": [],
   "source": [
    "import pandas as pd\n",
    "\n",
    "# select and rename columns from 2019 table\n",
    "clustering_2019 = pd.read_csv(\"2019_table_calculate_clustering.csv\")\n",
    "\n",
    "df_left = clustering_2019[[\"icao_code\", \"Cluster(n=4)\", \"sum_dn\"]]\n",
    "df_left = df_left.rename(columns={\"sum_dn\": \"2019_sum_dn\"})\n",
    "\n",
    "# select and rename columns from 2020 table\n",
    "table_2020 = pd.read_csv(\"2020_table_calculate.csv\")\n",
    "\n",
    "df_right = table_2020[[\"icao_code\", \"sum_dn\"]]\n",
    "df_right = df_right.rename(columns={\"sum_dn\": \"2020_sum_dn\"})\n",
    "\n",
    "# merge, calculate and export airport change rates\n",
    "df_merge = pd.merge(df_left, df_right, on=\"icao_code\", how=\"left\")\n",
    "\n",
    "df_merge[\"airport_change_rate\"] = (df_merge[\"2020_sum_dn\"] - df_merge[\"2019_sum_dn\"]) / df_merge[\"2019_sum_dn\"]\n",
    "\n",
    "df_merge.to_csv(\"airport_change_rate.csv\", index=False)"
   ]
  }
 ],
 "metadata": {
  "kernelspec": {
   "display_name": "Python 3",
   "language": "python",
   "name": "python3"
  },
  "language_info": {
   "codemirror_mode": {
    "name": "ipython",
    "version": 3
   },
   "file_extension": ".py",
   "mimetype": "text/x-python",
   "name": "python",
   "nbconvert_exporter": "python",
   "pygments_lexer": "ipython3",
   "version": "3.7.6"
  }
 },
 "nbformat": 4,
 "nbformat_minor": 4
}
