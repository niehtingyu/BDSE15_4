{
 "cells": [
  {
   "cell_type": "markdown",
   "metadata": {},
   "source": [
    "# Merge Airport Table"
   ]
  },
  {
   "cell_type": "code",
   "execution_count": 1,
   "metadata": {},
   "outputs": [],
   "source": [
    "import os\n",
    "import pandas as pd\n",
    "\n",
    "fileList = os.listdir(\"./mini_2019_airport_table\")\n",
    "csvYearly = [i for i in fileList if i.endswith(\".csv\")]\n",
    "csvYearly.sort()\n",
    "\n",
    "dfList = [pd.read_csv(\"./mini_2019_airport_table/\" + i) for i in csvYearly]\n",
    "yearlyAirportTableDf = pd.concat(dfList)\n",
    "\n",
    "yearlyAirportTableDf.to_csv(\"./mini_2019_airport_table.csv\", index = False)"
   ]
  },
  {
   "cell_type": "markdown",
   "metadata": {},
   "source": [
    "# Merge Station Table"
   ]
  },
  {
   "cell_type": "code",
   "execution_count": 2,
   "metadata": {},
   "outputs": [],
   "source": [
    "import os\n",
    "import pandas as pd\n",
    "\n",
    "fileList = os.listdir(\"./mini_2019_station_table\")\n",
    "csvYearly = [i for i in fileList if i.endswith(\".csv\")]\n",
    "csvYearly.sort()\n",
    "\n",
    "dfList = [pd.read_csv(\"./mini_2019_station_table/\" + i) for i in csvYearly]\n",
    "yearlyStationTableDf = pd.concat(dfList)\n",
    "\n",
    "yearlyStationTableDf.to_csv(\"./mini_2019_station_table.csv\", index = False)"
   ]
  },
  {
   "cell_type": "markdown",
   "metadata": {},
   "source": [
    "# Merge the Above Two Table and ICAO Table"
   ]
  },
  {
   "cell_type": "code",
   "execution_count": 3,
   "metadata": {},
   "outputs": [],
   "source": [
    "import pandas as pd\n",
    "\n",
    "yearlyAirportTableDf = pd.read_csv(\"./mini_2019_airport_table.csv\")\n",
    "yearlyStationTableDf = pd.read_csv(\"./mini_2019_station_table.csv\")\n",
    "icaoTableDf = pd.read_csv(\"./mini_icao/mini_ICAO.csv\").drop([\"ident\", \"latitude_deg\", \"longitude_deg\", \"elevation_ft\"], axis = 1)\n",
    "\n",
    "yearlyTableDf = pd.merge(yearlyAirportTableDf, yearlyStationTableDf, left_on = \"icao_code\", right_on = \"icao_code\")\n",
    "yearlyTableDf = pd.merge(yearlyTableDf, icaoTableDf, left_on = \"icao_code\", right_on = \"icao_code\")\n",
    "\n",
    "yearlyTableDf.to_csv(\"./mini_2019_table.csv\", index = False)"
   ]
  }
 ],
 "metadata": {
  "kernelspec": {
   "display_name": "Python 3",
   "language": "python",
   "name": "python3"
  },
  "language_info": {
   "codemirror_mode": {
    "name": "ipython",
    "version": 3
   },
   "file_extension": ".py",
   "mimetype": "text/x-python",
   "name": "python",
   "nbconvert_exporter": "python",
   "pygments_lexer": "ipython3",
   "version": "3.8.5"
  }
 },
 "nbformat": 4,
 "nbformat_minor": 4
}
